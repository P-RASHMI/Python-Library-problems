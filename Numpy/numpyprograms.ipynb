{
 "cells": [
  {
   "cell_type": "code",
   "execution_count": 1,
   "source": [
    "'''\r\n",
    "@Author: Rashmi\r\n",
    "@Date: 2021-10-3 17:10\r\n",
    "@Last Modified by: Rashmi\r\n",
    "@Last Modified time: 2021-10-3 17:17\r\n",
    "@Title :  Write a Python program to convert a list of numeric value into a one-dimensional\r\n",
    "NumPy array.\r\n",
    "Expected Output:\r\n",
    "Original List: [12.23, 13.32, 100, 36.32]\r\n",
    "One-dimensional numpy array: [ 12.23 13.32 100. 36.32]\r\n",
    "''' \r\n",
    "import numpy as np\r\n",
    "list = [12.23, 13.32, 100, 36.32]\r\n",
    "print(\"Original List:\",list)\r\n",
    "onedimen = np.array(list)\r\n",
    "print(\"One-dimensional NumPy array: \",onedimen)"
   ],
   "outputs": [
    {
     "output_type": "stream",
     "name": "stdout",
     "text": [
      "Original List: [12.23, 13.32, 100, 36.32]\n",
      "One-dimensional NumPy array:  [ 12.23  13.32 100.    36.32]\n"
     ]
    }
   ],
   "metadata": {}
  },
  {
   "cell_type": "code",
   "execution_count": 2,
   "source": [
    "'''\r\n",
    "@Author: Rashmi\r\n",
    "@Date: 2021-10-3 17:20\r\n",
    "@Last Modified by: Rashmi\r\n",
    "@Last Modified time: 2021-10-3 17:30\r\n",
    "@Title : Create a 3x3 matrix with values ranging from 2 to 10.\r\n",
    "''' \r\n",
    "import numpy as np\r\n",
    "matrx =  np.arange(2, 11).reshape(3,3)\r\n",
    "print(matrx)"
   ],
   "outputs": [
    {
     "output_type": "stream",
     "name": "stdout",
     "text": [
      "[[ 2  3  4]\n",
      " [ 5  6  7]\n",
      " [ 8  9 10]]\n"
     ]
    }
   ],
   "metadata": {}
  },
  {
   "cell_type": "code",
   "execution_count": 3,
   "source": [
    "'''\r\n",
    "@Author: Rashmi\r\n",
    "@Date: 2021-10-3 17:40\r\n",
    "@Last Modified by: Rashmi\r\n",
    "@Last Modified time: 2021-10-3 17:50\r\n",
    "@Title : Write a Python program to create a null vector of size 10 and update sixth \r\n",
    "value to 11.\r\n",
    "''' \r\n",
    "import numpy as np\r\n",
    "vector = np.zeros(10)\r\n",
    "print(vector)\r\n",
    "print(\"Update sixth value to 11\")\r\n",
    "vector[6] = 11\r\n",
    "print(vector)"
   ],
   "outputs": [
    {
     "output_type": "stream",
     "name": "stdout",
     "text": [
      "[0. 0. 0. 0. 0. 0. 0. 0. 0. 0.]\n",
      "Update sixth value to 11\n",
      "[ 0.  0.  0.  0.  0.  0. 11.  0.  0.  0.]\n"
     ]
    }
   ],
   "metadata": {}
  },
  {
   "cell_type": "code",
   "execution_count": 5,
   "source": [
    "\r\n",
    "'''\r\n",
    "@Author: Rashmi\r\n",
    "@Date: 2021-10-3 18:10\r\n",
    "@Last Modified by: Rashmi\r\n",
    "@Last Modified time: 2021-10-3 18:30\r\n",
    "@Title : Write a Python program to reverse an array (first element becomes last)\r\n",
    "''' \r\n",
    "import numpy as np\r\n",
    "original_array = np.arange(12, 38)\r\n",
    "print(\"Original array:\")\r\n",
    "print(original_array)\r\n",
    "print(\"Reverse array:\")\r\n",
    "original_array = original_array[::-1]\r\n",
    "print(original_array)\r\n"
   ],
   "outputs": [
    {
     "output_type": "stream",
     "name": "stdout",
     "text": [
      "Original array:\n",
      "[12 13 14 15 16 17 18 19 20 21 22 23 24 25 26 27 28 29 30 31 32 33 34 35\n",
      " 36 37]\n",
      "Reverse array:\n",
      "[37 36 35 34 33 32 31 30 29 28 27 26 25 24 23 22 21 20 19 18 17 16 15 14\n",
      " 13 12]\n"
     ]
    }
   ],
   "metadata": {}
  },
  {
   "cell_type": "code",
   "execution_count": 6,
   "source": [
    "'''\r\n",
    "@Author: Rashmi\r\n",
    "@Date: 2021-10-3 18:45\r\n",
    "@Last Modified by: Rashmi\r\n",
    "@Last Modified time: 2021-10-3 19:20\r\n",
    "@Title :Write a Python program to create a 2d array with 1 on \r\n",
    "the border and 0 inside.\r\n",
    "''' \r\n",
    "import numpy as np\r\n",
    "array1 = np.ones((5,5))\r\n",
    "print(\"Original array:\")\r\n",
    "print(array1)\r\n",
    "print(\"1 on the border and 0 inside in the array\")\r\n",
    "array1[1:-1,1:-1] = 0\r\n",
    "print(array1)"
   ],
   "outputs": [
    {
     "output_type": "stream",
     "name": "stdout",
     "text": [
      "Original array:\n",
      "[[1. 1. 1. 1. 1.]\n",
      " [1. 1. 1. 1. 1.]\n",
      " [1. 1. 1. 1. 1.]\n",
      " [1. 1. 1. 1. 1.]\n",
      " [1. 1. 1. 1. 1.]]\n",
      "1 on the border and 0 inside in the array\n",
      "[[1. 1. 1. 1. 1.]\n",
      " [1. 0. 0. 0. 1.]\n",
      " [1. 0. 0. 0. 1.]\n",
      " [1. 0. 0. 0. 1.]\n",
      " [1. 1. 1. 1. 1.]]\n"
     ]
    }
   ],
   "metadata": {}
  },
  {
   "cell_type": "code",
   "execution_count": 7,
   "source": [
    "'''\r\n",
    "@Author: Rashmi\r\n",
    "@Date: 2021-10-3 19:20\r\n",
    "@Last Modified by: Rashmi\r\n",
    "@Last Modified time: 2021-10-3 19:41\r\n",
    "@Title : Write a Python program to add a border (filled with 0's)\r\n",
    "around an existing array.\r\n",
    "''' \r\n",
    "import numpy as np\r\n",
    "array1 = np.ones((3,3))\r\n",
    "print(\"Original array:\")\r\n",
    "print(array1)\r\n",
    "print(\"0 on the border and 1 inside in the array\")\r\n",
    "array1 = np.pad(array1, pad_width=1, mode='constant', constant_values=0)\r\n",
    "print(array1)"
   ],
   "outputs": [
    {
     "output_type": "stream",
     "name": "stdout",
     "text": [
      "Original array:\n",
      "[[1. 1. 1.]\n",
      " [1. 1. 1.]\n",
      " [1. 1. 1.]]\n",
      "0 on the border and 1 inside in the array\n",
      "[[0. 0. 0. 0. 0.]\n",
      " [0. 1. 1. 1. 0.]\n",
      " [0. 1. 1. 1. 0.]\n",
      " [0. 1. 1. 1. 0.]\n",
      " [0. 0. 0. 0. 0.]]\n"
     ]
    }
   ],
   "metadata": {}
  },
  {
   "cell_type": "code",
   "execution_count": 14,
   "source": [
    "'''\r\n",
    "@Author: Rashmi\r\n",
    "@Date: 2021-10-3 19:44\r\n",
    "@Last Modified by: Rashmi\r\n",
    "@Last Modified time: 2021-10-3 20:13\r\n",
    "@Title : Write a Python program to create a 8x8 matrix \r\n",
    "and fill it with a checkerboard pattern.\r\n",
    "''' \r\n",
    "import numpy as np\r\n",
    "array1 = np.ones((3,3))\r\n",
    "print(array1)\r\n",
    "print(\"Checkerboard pattern:\")\r\n",
    "array1 = np.zeros((8,8),dtype=int)\r\n",
    "array1[1::2,::2] = 1\r\n",
    "array1[::2,1::2] = 1\r\n",
    "print(array1)"
   ],
   "outputs": [
    {
     "output_type": "stream",
     "name": "stdout",
     "text": [
      "[[1. 1. 1.]\n",
      " [1. 1. 1.]\n",
      " [1. 1. 1.]]\n",
      "Checkerboard pattern:\n",
      "[[0 1 0 1 0 1 0 1]\n",
      " [1 0 1 0 1 0 1 0]\n",
      " [0 1 0 1 0 1 0 1]\n",
      " [1 0 1 0 1 0 1 0]\n",
      " [0 1 0 1 0 1 0 1]\n",
      " [1 0 1 0 1 0 1 0]\n",
      " [0 1 0 1 0 1 0 1]\n",
      " [1 0 1 0 1 0 1 0]]\n"
     ]
    }
   ],
   "metadata": {}
  },
  {
   "cell_type": "code",
   "execution_count": 9,
   "source": [
    "'''\r\n",
    "@Author: Rashmi\r\n",
    "@Date: 2021-10-3 20:13\r\n",
    "@Last Modified by: Rashmi\r\n",
    "@Last Modified time: 2021-10-3 20:30\r\n",
    "@Title :Write a Python program to convert a list and tuple into arrays.\r\n",
    "''' \r\n",
    "import numpy as np\r\n",
    "my_list = [1, 2, 3, 4, 5, 6, 7, 8]\r\n",
    "print(\"List to array: \")\r\n",
    "print(np.asarray(my_list))\r\n",
    "my_tuple = ([8, 4, 6], [1, 2, 3])\r\n",
    "print(\"Tuple to array: \")\r\n",
    "print(np.asarray(my_tuple))\r\n"
   ],
   "outputs": [
    {
     "output_type": "stream",
     "name": "stdout",
     "text": [
      "List to array: \n",
      "[1 2 3 4 5 6 7 8]\n",
      "Tuple to array: \n",
      "[[8 4 6]\n",
      " [1 2 3]]\n"
     ]
    }
   ],
   "metadata": {}
  },
  {
   "cell_type": "code",
   "execution_count": 11,
   "source": [
    "'''\r\n",
    "@Author: Rashmi\r\n",
    "@Date: 2021-10-3 20:32\r\n",
    "@Last Modified by: Rashmi\r\n",
    "@Last Modified time: 2021-10-3 20:45\r\n",
    "@Title :Write a Python program to append values to the end of an array.\r\n",
    "''' \r\n",
    "import numpy as np\r\n",
    "array_given = [10, 20, 30]\r\n",
    "print(\"Original array:\")\r\n",
    "print(array_given)\r\n",
    "array_given = np.append(array_given, [[40, 50, 60], [70, 80, 90]])\r\n",
    "print(\"After append values to the end of the array:\")\r\n",
    "print(array_given)"
   ],
   "outputs": [
    {
     "output_type": "stream",
     "name": "stdout",
     "text": [
      "Original array:\n",
      "[10, 20, 30]\n",
      "After append values to the end of the array:\n",
      "[10 20 30 40 50 60 70 80 90]\n"
     ]
    }
   ],
   "metadata": {}
  },
  {
   "cell_type": "code",
   "execution_count": 2,
   "source": [
    "\r\n",
    "'''\r\n",
    "@Author: Rashmi\r\n",
    "@Date: 2021-10-3 20:50\r\n",
    "@Last Modified by: Rashmi\r\n",
    "@Last Modified time: 2021-10-3 21:15\r\n",
    "@Title : Write a Python program to find the real and imaginary parts of an \r\n",
    "array of complex numbers\r\n",
    "''' \r\n",
    "import numpy as np\r\n",
    "num1 = np.sqrt([1+0j])\r\n",
    "num2 = np.sqrt([0+1j])\r\n",
    "print(\"Original array:num1 \",num1)\r\n",
    "print(\"Original array:num2 \",num2)\r\n",
    "print(\"Real part of the array:\")\r\n",
    "print(num1.real)\r\n",
    "print(num2.real)\r\n",
    "print(\"Imaginary part of the array:\")\r\n",
    "print(num1.imag)\r\n",
    "print(num2.imag)"
   ],
   "outputs": [
    {
     "output_type": "stream",
     "name": "stdout",
     "text": [
      "Original array:num1  [1.+0.j]\n",
      "Original array:num2  [0.70710678+0.70710678j]\n",
      "Real part of the array:\n",
      "[1.]\n",
      "[0.70710678]\n",
      "Imaginary part of the array:\n",
      "[0.]\n",
      "[0.70710678]\n"
     ]
    }
   ],
   "metadata": {}
  },
  {
   "cell_type": "code",
   "execution_count": 4,
   "source": [
    "'''\r\n",
    "@Author: Rashmi\r\n",
    "@Date: 2021-10-3 21:15\r\n",
    "@Last Modified by: Rashmi\r\n",
    "@Last Modified time: 2021-10-3 21:35\r\n",
    "@Title :Write a Python program to find the number of elements of an array, length of one\r\n",
    "array element in bytes and total bytes consumed by the elements.\r\n",
    "Expected Output:\r\n",
    "Size of the array: 3\r\n",
    "Length of one array element in bytes: 8\r\n",
    "Total bytes consumed by the elements of the array: 24\r\n",
    "''' \r\n",
    "import numpy as np\r\n",
    "array1 = np.array([15,18,20], dtype=np.float64)\r\n",
    "print(\"the given array is\", array1)\r\n",
    "print(\"Size of the array: \", array1.size)\r\n",
    "print(\"Length of one array element in bytes: \", array1.itemsize)\r\n",
    "print(\"Total bytes consumed by the elements of the array: \", array1.nbytes)"
   ],
   "outputs": [
    {
     "output_type": "stream",
     "name": "stdout",
     "text": [
      "the given array is [15. 18. 20.]\n",
      "Size of the array:  3\n",
      "Length of one array element in bytes:  8\n",
      "Total bytes consumed by the elements of the array:  24\n"
     ]
    }
   ],
   "metadata": {}
  },
  {
   "cell_type": "code",
   "execution_count": 5,
   "source": [
    "'''\r\n",
    "@Author: Rashmi\r\n",
    "@Date: 2021-10-3 21:35\r\n",
    "@Last Modified by: Rashmi\r\n",
    "@Last Modified time: 2021-10-3 21:45\r\n",
    "@Title : Write a Python program to find common values between two arrays.\r\n",
    "Expected Output:\r\n",
    "Array1: [ 0 10 20 40 60]\r\n",
    "Array2: [10, 30, 40]\r\n",
    "Common values between two arrays:\r\n",
    "[10 40]\r\n",
    "''' \r\n",
    "import numpy as np\r\n",
    "array1 = np.array([0, 10, 20, 40, 60])\r\n",
    "print(\"Array1: \",array1)\r\n",
    "array2 = [10, 30, 40]\r\n",
    "print(\"Array2: \",array2)\r\n",
    "print(\"Common values between two arrays:\")\r\n",
    "print(np.intersect1d(array1, array2))"
   ],
   "outputs": [
    {
     "output_type": "stream",
     "name": "stdout",
     "text": [
      "Array1:  [ 0 10 20 40 60]\n",
      "Array2:  [10, 30, 40]\n",
      "Common values between two arrays:\n",
      "[10 40]\n"
     ]
    }
   ],
   "metadata": {}
  },
  {
   "cell_type": "code",
   "execution_count": 6,
   "source": [
    "'''\r\n",
    "@Author: Rashmi\r\n",
    "@Date: 2021-10-3 21:45\r\n",
    "@Last Modified by: Rashmi\r\n",
    "@Last Modified time: 2021-10-3 21:51\r\n",
    "@Title :Write a Python program to find the set difference of two arrays. The set difference\r\n",
    "will return the sorted, unique values in array1 that are not in array2.\r\n",
    "Expected Output:\r\n",
    "Array1: [ 0 10 20 40 60 80]\r\n",
    "Array2: [10, 30, 40, 50, 70, 90]\r\n",
    "Set difference between two arrays:\r\n",
    "[ 0 20 60 80]\r\n",
    "''' \r\n",
    "import numpy as np\r\n",
    "array1 = np.array([0, 10, 20, 40, 60, 80])\r\n",
    "print(\"Array1: \",array1)\r\n",
    "array2 = [10, 30, 40, 50, 70]\r\n",
    "print(\"Array2: \",array2)\r\n",
    "print(\"difference of array,Unique values in array1 that are not in array2:\")\r\n",
    "print(np.setdiff1d(array1, array2))"
   ],
   "outputs": [
    {
     "output_type": "stream",
     "name": "stdout",
     "text": [
      "Array1:  [ 0 10 20 40 60 80]\n",
      "Array2:  [10, 30, 40, 50, 70]\n",
      "difference of array,Unique values in array1 that are not in array2:\n",
      "[ 0 20 60 80]\n"
     ]
    }
   ],
   "metadata": {}
  },
  {
   "cell_type": "code",
   "execution_count": 7,
   "source": [
    "'''\r\n",
    "@Author: Rashmi\r\n",
    "@Date: 2021-10-3 21:45\r\n",
    "@Last Modified by: Rashmi\r\n",
    "@Last Modified time: 2021-10-3 21:51\r\n",
    "@Title :Write a Python program to find the set exclusive-or of two arrays. Set exclusive-or\r\n",
    "will return the sorted, unique values that are in only one (not both) of the input arrays.\r\n",
    "Array1: [ 0 10 20 40 60 80]\r\n",
    "Array2: [10, 30, 40, 50, 70]\r\n",
    "Unique values that are in only one (not both) of the input arrays:\r\n",
    "[ 0 20 30 50 60 70 80]\r\n",
    "''' \r\n",
    "import numpy as np\r\n",
    "array1 = np.array([0, 10, 20, 40, 60, 80])\r\n",
    "print(\"Array1: \",array1)\r\n",
    "array2 = [10, 30, 40, 50, 70]\r\n",
    "print(\"Array2: \",array2)\r\n",
    "print(\"Unique values that are in only one (not both) of the input arrays:\")\r\n",
    "print(np.setxor1d(array1, array2))"
   ],
   "outputs": [
    {
     "output_type": "stream",
     "name": "stdout",
     "text": [
      "Array1:  [ 0 10 20 40 60 80]\n",
      "Array2:  [10, 30, 40, 50, 70]\n",
      "Unique values that are in only one (not both) of the input arrays:\n",
      "[ 0 20 30 50 60 70 80]\n"
     ]
    }
   ],
   "metadata": {}
  },
  {
   "cell_type": "code",
   "execution_count": 8,
   "source": [
    "'''\r\n",
    "@Author: Rashmi\r\n",
    "@Date: 2021-10-3 21:45\r\n",
    "@Last Modified by: Rashmi\r\n",
    "@Last Modified time: 2021-10-3 21:51\r\n",
    "@Title :Write a Python program compare two arrays using numpy.\r\n",
    "Array a: [1 2]\r\n",
    "Array b: [4 5]\r\n",
    "a > b\r\n",
    "[False False]\r\n",
    "a >= b\r\n",
    "[False False]\r\n",
    "a < b\r\n",
    "[ True True]\r\n",
    "a <= b\r\n",
    "[ True True]\r\n",
    "''' \r\n",
    "import numpy as np\r\n",
    "array1 = np.array([1, 2])\r\n",
    "array2 = np.array([4, 5])\r\n",
    "print(\"Array1: \",array1)\r\n",
    "print(\"Array2: \",array2)\r\n",
    "print(\"array1 > array2\")\r\n",
    "print(np.greater(array1, array2))\r\n",
    "print(\"array1 >= array2\")\r\n",
    "print(np.greater_equal(array1, array2))\r\n",
    "print(\"array1 <array2\")\r\n",
    "print(np.less(array1, array2))\r\n",
    "print(\"array1 <= array2\")\r\n",
    "print(np.less_equal(array1, array2))"
   ],
   "outputs": [
    {
     "output_type": "stream",
     "name": "stdout",
     "text": [
      "Array1:  [1 2]\n",
      "Array2:  [4 5]\n",
      "array1 > array2\n",
      "[False False]\n",
      "array1 >= array2\n",
      "[False False]\n",
      "array1 <array2\n",
      "[ True  True]\n",
      "array1 <= array2\n",
      "[ True  True]\n"
     ]
    }
   ],
   "metadata": {}
  },
  {
   "cell_type": "code",
   "execution_count": 9,
   "source": [
    "'''\r\n",
    "@Author: Rashmi\r\n",
    "@Date: 2021-10-3 21:45\r\n",
    "@Last Modified by: Rashmi\r\n",
    "@Last Modified time: 2021-10-3 21:51\r\n",
    "@Title :. Write a Python program to save a NumPy array to a text file.\r\n",
    "''' \r\n",
    "import numpy as np\r\n",
    "import os\r\n",
    "array1 = np.arange(12).reshape(4, 3)\r\n",
    "print(\"Original array:\")\r\n",
    "print(array1)\r\n",
    "header = 'col1 col2 col3'\r\n",
    "np.savetxt('temp.txt', array1, fmt=\"%d\", header=header) \r\n",
    "print(\"After loading, content of the text file:\")\r\n",
    "result = np.loadtxt('temp.txt')\r\n",
    "print(result)"
   ],
   "outputs": [
    {
     "output_type": "stream",
     "name": "stdout",
     "text": [
      "Original array:\n",
      "[[ 0  1  2]\n",
      " [ 3  4  5]\n",
      " [ 6  7  8]\n",
      " [ 9 10 11]]\n",
      "After loading, content of the text file:\n",
      "[[ 0.  1.  2.]\n",
      " [ 3.  4.  5.]\n",
      " [ 6.  7.  8.]\n",
      " [ 9. 10. 11.]]\n"
     ]
    }
   ],
   "metadata": {}
  },
  {
   "cell_type": "code",
   "execution_count": 10,
   "source": [
    "'''\r\n",
    "@Author: Rashmi\r\n",
    "@Date: 2021-10-3 21:45\r\n",
    "@Last Modified by: Rashmi\r\n",
    "@Last Modified time: 2021-10-3 21:51\r\n",
    "@Title :Write a Python program to create a contiguous flattened array.\r\n",
    "Original array:\r\n",
    "[[10 20 30]\r\n",
    "[20 40 50]]\r\n",
    "New flattened array:\r\n",
    "[10 20 30 20 40 50]\r\n",
    "''' \r\n",
    "import numpy as np\r\n",
    "array1 = np.array([[10, 20, 30], [20, 40, 50]])\r\n",
    "print(\"Original array:\")\r\n",
    "print(array1)\r\n",
    "array_flat = np.ravel(array1)\r\n",
    "print(\"New flattened array:\")\r\n",
    "print(array_flat)"
   ],
   "outputs": [
    {
     "output_type": "stream",
     "name": "stdout",
     "text": [
      "Original array:\n",
      "[[10 20 30]\n",
      " [20 40 50]]\n",
      "New flattened array:\n",
      "[10 20 30 20 40 50]\n"
     ]
    }
   ],
   "metadata": {}
  },
  {
   "cell_type": "code",
   "execution_count": 12,
   "source": [
    "'''\r\n",
    "@Author: Rashmi\r\n",
    "@Date: 2021-10-3 23:15\r\n",
    "@Last Modified by: Rashmi\r\n",
    "@Last Modified time: 2021-10-3 23:35\r\n",
    "@Title :Write a Python program to change the data type of an array.\r\n",
    "Expected Output:\r\n",
    "[[ 2 4 6]\r\n",
    "[ 6 8 10]]\r\n",
    "Data type of the array x is: int32\r\n",
    "New Type: float64\r\n",
    "[[ 2. 4. 6.]\r\n",
    "[ 6. 8. 10.]]\r\n",
    "''' \r\n",
    "import numpy as np\r\n",
    "array1 = np.array([[2, 4, 6], [6, 8, 10]], np.int32)\r\n",
    "print(array1)\r\n",
    "print(\"Data type of the array is:\",array1.dtype)\r\n",
    "# Change the data type of array\r\n",
    "array_ch = array1.astype(float)\r\n",
    "print(\"New Type: \",array_ch.dtype)\r\n",
    "print(array_ch)"
   ],
   "outputs": [
    {
     "output_type": "stream",
     "name": "stdout",
     "text": [
      "[[ 2  4  6]\n",
      " [ 6  8 10]]\n",
      "Data type of the array is: int32\n",
      "New Type:  float64\n",
      "[[ 2.  4.  6.]\n",
      " [ 6.  8. 10.]]\n"
     ]
    }
   ],
   "metadata": {}
  }
 ],
 "metadata": {
  "orig_nbformat": 4,
  "language_info": {
   "name": "python",
   "version": "3.9.7",
   "mimetype": "text/x-python",
   "codemirror_mode": {
    "name": "ipython",
    "version": 3
   },
   "pygments_lexer": "ipython3",
   "nbconvert_exporter": "python",
   "file_extension": ".py"
  },
  "kernelspec": {
   "name": "python3",
   "display_name": "Python 3.9.7 64-bit"
  },
  "interpreter": {
   "hash": "90148bcc259da1fcc80af659945835b57510245ee027d8a59f91081c3f6618bd"
  }
 },
 "nbformat": 4,
 "nbformat_minor": 2
}