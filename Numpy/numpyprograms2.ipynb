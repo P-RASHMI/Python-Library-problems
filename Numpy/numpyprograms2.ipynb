{
 "cells": [
  {
   "cell_type": "code",
   "execution_count": 1,
   "source": [
    "'''\r\n",
    "@Author: Rashmi\r\n",
    "@Date: 2021-10-4 14:11\r\n",
    "@Last Modified by: Rashmi\r\n",
    "@Last Modified time: 2021-10-3 14:31\r\n",
    "@Title :Write a Python program to create a 3-D array with ones on a diagonal and zeros\r\n",
    "elsewhere.\r\n",
    "Expected Output:\r\n",
    "[[ 1. 0. 0.]\r\n",
    "[ 0. 1. 0.]\r\n",
    "[ 0. 0. 1.]]]\r\n",
    "''' \r\n",
    "import numpy as np\r\n",
    "array1 = np.eye(3)   #three rows and columns\r\n",
    "print(array1)"
   ],
   "outputs": [
    {
     "output_type": "stream",
     "name": "stdout",
     "text": [
      "[[1. 0. 0.]\n",
      " [0. 1. 0.]\n",
      " [0. 0. 1.]]\n"
     ]
    }
   ],
   "metadata": {}
  },
  {
   "cell_type": "code",
   "execution_count": 19,
   "source": [
    "'''\r\n",
    "@Author: Rashmi\r\n",
    "@Date: 2021-10-4 14:33\r\n",
    "@Last Modified by: Rashmi\r\n",
    "@Last Modified time: 2021-10-4 14:\r\n",
    "@Title :Write a Python program to create an array which looks like below array.\r\n",
    "Expected Output:\r\n",
    "[[ 0. 0. 0.]\r\n",
    "[ 1. 0. 0.]\r\n",
    "[ 1. 1. 0.]\r\n",
    "[ 1. 1. 1.]]\r\n",
    "'''\r\n",
    "import numpy as np\r\n",
    "array1 = np.array([[0, 0, 0],[1, 0, 0],[1,1,0],[1,1,1]],dtype=float)\r\n",
    "print(\"array in expected format is \\n\",array1)"
   ],
   "outputs": [
    {
     "output_type": "stream",
     "name": "stdout",
     "text": [
      "array in expected format is \n",
      " [[0. 0. 0.]\n",
      " [1. 0. 0.]\n",
      " [1. 1. 0.]\n",
      " [1. 1. 1.]]\n"
     ]
    }
   ],
   "metadata": {}
  },
  {
   "cell_type": "code",
   "execution_count": 3,
   "source": [
    "'''\r\n",
    "@Author: Rashmi\r\n",
    "@Date: 2021-10-4 15:15\r\n",
    "@Last Modified by: Rashmi\r\n",
    "@Last Modified time: 2021-10-4 15:24\r\n",
    "@Title :Write a Python program to concatenate two 2-dimensional arrays.\r\n",
    "Expected Output:\r\n",
    "Sample arrays: ([[0, 1, 3], [5, 7, 9]], [[0, 2, 4], [6, 8, 10]])\r\n",
    "Expected Output:\r\n",
    "[[ 0 1 3 0 2 4]\r\n",
    "[ 5 7 9 6 8 10]\r\n",
    "'''\r\n",
    "import numpy as np\r\n",
    "array1 = np.array([[0, 1, 3], [5, 7, 9]])\r\n",
    "array2 = np.array([[0, 2, 4], [6, 8, 10]])\r\n",
    "array = np.concatenate((array1, array2), 1) #column wise concatenation\r\n",
    "print(array)\r\n",
    "array_given = np.concatenate((array1,array2))# row wise concatenation\r\n",
    "print(array_given)"
   ],
   "outputs": [
    {
     "output_type": "stream",
     "name": "stdout",
     "text": [
      "[[ 0  1  3  0  2  4]\n",
      " [ 5  7  9  6  8 10]]\n",
      "[[ 0  1  3]\n",
      " [ 5  7  9]\n",
      " [ 0  2  4]\n",
      " [ 6  8 10]]\n"
     ]
    }
   ],
   "metadata": {}
  },
  {
   "cell_type": "code",
   "execution_count": 16,
   "source": [
    "'''\r\n",
    "@Author: Rashmi\r\n",
    "@Date: 2021-10-4 15:15\r\n",
    "@Last Modified by: Rashmi\r\n",
    "@Last Modified time: 2021-10-4 15:24\r\n",
    "@Title :Write a Python program to make an array immutable (read-only).\r\n",
    "Expected Output:\r\n",
    "Test the array is read-only or not:\r\n",
    "Try to change the value of the first element:\r\n",
    "Traceback (most recent call last):\r\n",
    "File \"19236bd0-0bd9-11e7-a232-c706d0968eb6.py\", line 6, in\r\n",
    "x[0] = 1\r\n",
    "ValueError: assignment destination is read-only\r\n",
    "'''\r\n",
    "import numpy as np\r\n",
    "array1 = np.zeros(10)\r\n",
    "print(array1)\r\n",
    "array1.flags.writeable = False           #False makes array read only\r\n",
    "print(\"Test the array is read-only or not:\")\r\n",
    "print(\"Try to change the value of the first element:\")\r\n",
    "array1[0] = 1\r\n",
    "print(array1)"
   ],
   "outputs": [
    {
     "output_type": "stream",
     "name": "stdout",
     "text": [
      "[0. 0. 0. 0. 0. 0. 0. 0. 0. 0.]\n",
      "Test the array is read-only or not:\n",
      "Try to change the value of the first element:\n",
      "[1. 0. 0. 0. 0. 0. 0. 0. 0. 0.]\n"
     ]
    }
   ],
   "metadata": {}
  },
  {
   "cell_type": "code",
   "execution_count": 9,
   "source": [
    "'''\r\n",
    "@Author: Rashmi\r\n",
    "@Date: 2021-10-4 15:15\r\n",
    "@Last Modified by: Rashmi\r\n",
    "@Last Modified time: 2021-10-4 15:24\r\n",
    "@Title :Write a Python program to create an array of (3, 4) shape, multiply every \r\n",
    "element value by 3 and display the new array.\r\n",
    "Expected Output:\r\n",
    "Original array elements:\r\n",
    "[[ 0 1 2 3]\r\n",
    "[ 4 5 6 7]\r\n",
    "[ 8 9 10 11]]\r\n",
    "New array elements:\r\n",
    "[[ 0 3 6 9]\r\n",
    "[12 15 18 21]\r\n",
    "[24 27 30 33]]\r\n",
    "'''\r\n",
    "import numpy as np\r\n",
    "array1 = np.arange(12).reshape(3,4)\r\n",
    "print(\"the given array\",array1)\r\n",
    "result_array = array1 * 3\r\n",
    "print(\"array after multiplication by 3 \\n\",result_array)\r\n"
   ],
   "outputs": [
    {
     "output_type": "stream",
     "name": "stdout",
     "text": [
      "the given array [[ 0  1  2  3]\n",
      " [ 4  5  6  7]\n",
      " [ 8  9 10 11]]\n",
      "array after multiplication by 3 \n",
      " [[ 0  3  6  9]\n",
      " [12 15 18 21]\n",
      " [24 27 30 33]]\n"
     ]
    }
   ],
   "metadata": {}
  },
  {
   "cell_type": "code",
   "execution_count": 10,
   "source": [
    "'''\r\n",
    "@Author: Rashmi\r\n",
    "@Date: 2021-10-4 15:24\r\n",
    "@Last Modified by: Rashmi\r\n",
    "@Last Modified time: 2021-10-4 15:51\r\n",
    "@Title :Write a Python program to convert a NumPy array into Python list structure.\r\n",
    "Expected Output:\r\n",
    "Original array elements:\r\n",
    "[[0 1]\r\n",
    "[2 3]\r\n",
    "[4 5]]\r\n",
    "Array to list:\r\n",
    "[[0, 1], [2, 3], [4, 5]]\r\n",
    "'''\r\n",
    "import numpy as np\r\n",
    "array1 = np.arange(6).reshape(3, 2)\r\n",
    "print(\"Original array elements:\")\r\n",
    "print(array1)\r\n",
    "print(\"Array to list:\")\r\n",
    "print(array1.tolist())"
   ],
   "outputs": [
    {
     "output_type": "stream",
     "name": "stdout",
     "text": [
      "Original array elements:\n",
      "[[0 1]\n",
      " [2 3]\n",
      " [4 5]]\n",
      "Array to list:\n",
      "[[0, 1], [2, 3], [4, 5]]\n"
     ]
    }
   ],
   "metadata": {}
  },
  {
   "cell_type": "code",
   "execution_count": 11,
   "source": [
    "'''\r\n",
    "@Author: Rashmi\r\n",
    "@Date: 2021-10-4 15:51\r\n",
    "@Last Modified by: Rashmi\r\n",
    "@Last Modified time: 2021-10-4 16:09\r\n",
    "@Title :Write a Python program to convert a NumPy array into Python list structure.\r\n",
    "Expected Output:\r\n",
    "Original array elements:\r\n",
    "[ 0.26153123 0.52760141 0.5718299 0.5927067 0.7831874 0.69746349\r\n",
    "0.35399976 0.99469633 0.0694458 0.54711478]\r\n",
    "Print array values with precision 3:\r\n",
    "[ 0.262 0.528 0.572 0.593 0.783 0.697 0.354 0.995 0.069 0.547]\r\n",
    "'''\r\n",
    "import numpy as np\r\n",
    "array1 = np.array([ 0.26153123, 0.52760141, 0.5718299, 0.5927067, 0.7831874, 0.69746349,             \r\n",
    "                    0.35399976, 0.99469633, 0.0694458, 0.54711478]) \r\n",
    "print(\"Original array elements:\")\r\n",
    "print(array1)\r\n",
    "print(\"array values with precision 3:\")\r\n",
    "np.set_printoptions(precision=3)\r\n",
    "print(array1)\r\n"
   ],
   "outputs": [
    {
     "output_type": "stream",
     "name": "stdout",
     "text": [
      "Original array elements:\n",
      "[0.26153123 0.52760141 0.5718299  0.5927067  0.7831874  0.69746349\n",
      " 0.35399976 0.99469633 0.0694458  0.54711478]\n",
      "Print array values with precision 3:\n",
      "[0.262 0.528 0.572 0.593 0.783 0.697 0.354 0.995 0.069 0.547]\n"
     ]
    }
   ],
   "metadata": {}
  },
  {
   "cell_type": "code",
   "execution_count": 12,
   "source": [
    "'''\r\n",
    "@Author: Rashmi\r\n",
    "@Date: 2021-10-4 16:09\r\n",
    "@Last Modified by: Rashmi\r\n",
    "@Last Modified time: 2021-10-4 16:15\r\n",
    "@Title :Write a Python program to suppresses the use of scientific notation for small\r\n",
    "numbers in numpy array.\r\n",
    "Expected Output:\r\n",
    "Original array elements:\r\n",
    "[ 1.60000000e-10 1.60000000e+00 1.20000000e+03 2.35000000e-01]\r\n",
    "Print array values with precision 3:\r\n",
    "[ 0. 1.6 1200. 0.235]\r\n",
    "'''\r\n",
    "import numpy as np\r\n",
    "array1 = np.array([1.6e-10, 1.6, 1200, .235]) \r\n",
    "print(\"Original array elements:\")\r\n",
    "print(array1)\r\n",
    "print(\"Print array values with precision 3:\")\r\n",
    "np.set_printoptions(suppress=True)\r\n",
    "print(array1)"
   ],
   "outputs": [
    {
     "output_type": "stream",
     "name": "stdout",
     "text": [
      "Original array elements:\n",
      "[1.60e-10 1.60e+00 1.20e+03 2.35e-01]\n",
      "Print array values with precision 3:\n",
      "[   0.       1.6   1200.       0.235]\n"
     ]
    }
   ],
   "metadata": {}
  },
  {
   "cell_type": "code",
   "execution_count": 14,
   "source": [
    "'''\r\n",
    "@Author: Rashmi\r\n",
    "@Date: 2021-10-4 16:15\r\n",
    "@Last Modified by: Rashmi\r\n",
    "@Last Modified time: 2021-10-4 16:23\r\n",
    "@Title :Write a Python program to how to add an extra column to an numpy array.\r\n",
    "Expected Output:\r\n",
    "[[ 10 20 30 100]\r\n",
    "[ 40 50 60 200]]\r\n",
    "'''\r\n",
    "import numpy as np\r\n",
    "array1 = np.array([[10,20,30], [40,50,60]])\r\n",
    "print(\"array one\\n\",array1)\r\n",
    "array2 = np.array([[100], [200]])\r\n",
    "print(\"second array\\n\",array2)\r\n",
    "print(\"appended column\")\r\n",
    "print(np.append(array1, array2, axis=1))\r\n",
    "\r\n"
   ],
   "outputs": [
    {
     "output_type": "stream",
     "name": "stdout",
     "text": [
      "array one\n",
      " [[10 20 30]\n",
      " [40 50 60]]\n",
      "second array\n",
      " [[100]\n",
      " [200]]\n",
      "appended column\n",
      "[[ 10  20  30 100]\n",
      " [ 40  50  60 200]]\n"
     ]
    }
   ],
   "metadata": {}
  },
  {
   "cell_type": "code",
   "execution_count": 15,
   "source": [
    "'''\r\n",
    "@Author: Rashmi\r\n",
    "@Date: 2021-10-4 16:27\r\n",
    "@Last Modified by: Rashmi\r\n",
    "@Last Modified time: 2021-10-4 16:34\r\n",
    "@Title :Write a Python program to remove specific elements in a numpy array.\r\n",
    "Expected Output:\r\n",
    "Original array:\r\n",
    "[ 10 20 30 40 50 60 70 80 90 100]\r\n",
    "Delete first, fourth and fifth elements:\r\n",
    "[ 20 30 60 70 80 90 100]\r\n",
    "'''\r\n",
    "import numpy as np\r\n",
    "array1 = np.array([10, 20, 30, 40, 50, 60, 70, 80, 90, 100])\r\n",
    "print(\"Original array:\")\r\n",
    "print(array1)\r\n",
    "print(\"Delete first, fourth and fifth elements:\")\r\n",
    "new_array1 = np.delete(array1, [0,3,4])\r\n",
    "print(new_array1)"
   ],
   "outputs": [
    {
     "output_type": "stream",
     "name": "stdout",
     "text": [
      "Original array:\n",
      "[ 10  20  30  40  50  60  70  80  90 100]\n",
      "Delete first, fourth and fifth elements:\n",
      "[ 20  30  60  70  80  90 100]\n"
     ]
    }
   ],
   "metadata": {}
  }
 ],
 "metadata": {
  "orig_nbformat": 4,
  "language_info": {
   "name": "python",
   "version": "3.9.7",
   "mimetype": "text/x-python",
   "codemirror_mode": {
    "name": "ipython",
    "version": 3
   },
   "pygments_lexer": "ipython3",
   "nbconvert_exporter": "python",
   "file_extension": ".py"
  },
  "kernelspec": {
   "name": "python3",
   "display_name": "Python 3.9.7 64-bit"
  },
  "interpreter": {
   "hash": "90148bcc259da1fcc80af659945835b57510245ee027d8a59f91081c3f6618bd"
  }
 },
 "nbformat": 4,
 "nbformat_minor": 2
}