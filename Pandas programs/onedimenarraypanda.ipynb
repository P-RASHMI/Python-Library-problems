{
 "cells": [
  {
   "cell_type": "code",
   "execution_count": 5,
   "source": [
    "'''\r\n",
    "@Author: Rashmi\r\n",
    "@Date: 2021-10-5 17:52\r\n",
    "@Last Modified by: Rashmi\r\n",
    "@Last Modified time: 2021-10-5 18:16\r\n",
    "@Title :Write a Python program to create and display a one-dimensional array-like object\r\n",
    "containing an array of data using Pandas module.\r\n",
    "''' \r\n",
    "import pandas as pd\r\n",
    "import numpy as np\r\n",
    "#array1 = np.array([2, 4, 6, 8, 10])         \r\n",
    "#ser = pd.Series(array1)                #printing type as int32\r\n",
    "#print(ser)\r\n",
    "ser = pd.Series([2, 4, 6, 8, 10])       #printing type as int64\r\n",
    "print(ser)\r\n",
    "\r\n"
   ],
   "outputs": [
    {
     "output_type": "stream",
     "name": "stdout",
     "text": [
      "0     2\n",
      "1     4\n",
      "2     6\n",
      "3     8\n",
      "4    10\n",
      "dtype: int64\n"
     ]
    }
   ],
   "metadata": {}
  }
 ],
 "metadata": {
  "orig_nbformat": 4,
  "language_info": {
   "name": "python",
   "version": "3.9.7",
   "mimetype": "text/x-python",
   "codemirror_mode": {
    "name": "ipython",
    "version": 3
   },
   "pygments_lexer": "ipython3",
   "nbconvert_exporter": "python",
   "file_extension": ".py"
  },
  "kernelspec": {
   "name": "python3",
   "display_name": "Python 3.9.7 64-bit"
  },
  "interpreter": {
   "hash": "90148bcc259da1fcc80af659945835b57510245ee027d8a59f91081c3f6618bd"
  }
 },
 "nbformat": 4,
 "nbformat_minor": 2
}