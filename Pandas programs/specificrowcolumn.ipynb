{
 "cells": [
  {
   "cell_type": "code",
   "execution_count": 6,
   "source": [
    "'''\r\n",
    "@Author: Rashmi\r\n",
    "@Date: 2021-10-5 22:35\r\n",
    "@Last Modified by: Rashmi\r\n",
    "@Last Modified time: 2021-10-5 22:40\r\n",
    "@Title : Write a Python program to select the specified columns and rows from a given data\r\n",
    "frame.\r\n",
    "Select 'name' and 'score' columns in rows 1, 3, 5, 6 from the following data frame.\r\n",
    "exam_data = {'name': ['Anastasia', 'Dima', 'Katherine', 'James', 'Emily', 'Michael', 'Matthew',\r\n",
    "'Laura', 'Kevin', 'Jonas'],\r\n",
    "'score': [12.5, 9, 16.5, np.nan, 9, 20, 14.5, np.nan, 8, 19],\r\n",
    "'attempts': [1, 3, 2, 3, 2, 3, 1, 1, 2, 1],\r\n",
    "'qualify': ['yes', 'no', 'yes', 'no', 'no', 'yes', 'yes', 'no', 'no', 'yes']}\r\n",
    "labels = ['a', 'b', 'c', 'd', 'e', 'f', 'g', 'h', 'i', 'j']\r\n",
    "''' \r\n",
    "import pandas as pd\r\n",
    "import numpy as np\r\n",
    "\r\n",
    "exam_data  = {'name': ['Anastasia', 'Dima', 'Katherine', 'James', 'Emily', 'Michael', 'Matthew', 'Laura', 'Kevin', 'Jonas'],\r\n",
    "        'score': [12.5, 9, 16.5, np.nan, 9, 20, 14.5, np.nan, 8, 19],\r\n",
    "        'attempts': [1, 3, 2, 3, 2, 3, 1, 1, 2, 1],\r\n",
    "        'qualify': ['yes', 'no', 'yes', 'no', 'no', 'yes', 'yes', 'no', 'no', 'yes']}\r\n",
    "labels = ['a', 'b', 'c', 'd', 'e', 'f', 'g', 'h', 'i', 'j']\r\n",
    "\r\n",
    "df = pd.DataFrame(exam_data)\r\n",
    "print(\"given dataframe\\n\",df)\r\n",
    "print(\"\\n\")\r\n",
    "print(\"Select specific columns of name,score and rows of 1,3,5,6: using iloc indexes\")\r\n",
    "print(df.iloc[[1, 3, 5, 6], [0,1]])\r\n",
    "print(\"Select specific columns of name,score and rows of 1,3,5,6 using loc labels\")\r\n",
    "print(df.loc[[1, 3, 5, 6], ['name','score']])  #using column name and integer index for rows \r\n"
   ],
   "outputs": [
    {
     "output_type": "stream",
     "name": "stdout",
     "text": [
      "given dataframe\n",
      "         name  score  attempts qualify\n",
      "0  Anastasia   12.5         1     yes\n",
      "1       Dima    9.0         3      no\n",
      "2  Katherine   16.5         2     yes\n",
      "3      James    NaN         3      no\n",
      "4      Emily    9.0         2      no\n",
      "5    Michael   20.0         3     yes\n",
      "6    Matthew   14.5         1     yes\n",
      "7      Laura    NaN         1      no\n",
      "8      Kevin    8.0         2      no\n",
      "9      Jonas   19.0         1     yes\n",
      "\n",
      "\n",
      "Select specific columns of name,score and rows of 1,3,5,6: using iloc indexes\n",
      "      name  score\n",
      "1     Dima    9.0\n",
      "3    James    NaN\n",
      "5  Michael   20.0\n",
      "6  Matthew   14.5\n",
      "Select specific columns of name,score and rows of 1,3,5,6 using loc labels\n",
      "      name  score\n",
      "1     Dima    9.0\n",
      "3    James    NaN\n",
      "5  Michael   20.0\n",
      "6  Matthew   14.5\n"
     ]
    }
   ],
   "metadata": {}
  },
  {
   "cell_type": "code",
   "execution_count": null,
   "source": [],
   "outputs": [],
   "metadata": {}
  }
 ],
 "metadata": {
  "orig_nbformat": 4,
  "language_info": {
   "name": "python",
   "version": "3.9.7",
   "mimetype": "text/x-python",
   "codemirror_mode": {
    "name": "ipython",
    "version": 3
   },
   "pygments_lexer": "ipython3",
   "nbconvert_exporter": "python",
   "file_extension": ".py"
  },
  "kernelspec": {
   "name": "python3",
   "display_name": "Python 3.9.7 64-bit"
  },
  "interpreter": {
   "hash": "90148bcc259da1fcc80af659945835b57510245ee027d8a59f91081c3f6618bd"
  }
 },
 "nbformat": 4,
 "nbformat_minor": 2
}