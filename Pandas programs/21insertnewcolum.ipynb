{
 "cells": [
  {
   "cell_type": "code",
   "execution_count": 1,
   "source": [
    "'''\r\n",
    "@Author: Rashmi\r\n",
    "@Date: 2021-10-6 1:57\r\n",
    "@Last Modified by: Rashmi\r\n",
    "@Last Modified time: 2021-10-6 2:02\r\n",
    "@Title :Write a Python program to insert a new column in existing DataFrame\r\n",
    "exam_data = {'name': ['Anastasia', 'Dima', 'Katherine', 'James', 'Emily', 'Michael', 'Matthew',\r\n",
    "'Laura', 'Kevin', 'Jonas'],\r\n",
    "'score': [12.5, 9, 16.5, np.nan, 9, 20, 14.5, np.nan, 8, 19],\r\n",
    "'attempts': [1, 3, 2, 3, 2, 3, 1, 1, 2, 1],\r\n",
    "'qualify': ['yes', 'no', 'yes', 'no', 'no', 'yes', 'yes', 'no', 'no', 'yes']}\r\n",
    "labels = ['a', 'b', 'c', 'd', 'e', 'f', 'g', 'h', 'i', 'j']\r\n",
    "Values for each column will be:\r\n",
    "name : \"Suresh\", score: 15.5, attempts: 1, qualify: \"yes\", label: \"k\"\r\n",
    "''' \r\n",
    "import pandas as pd\r\n",
    "import numpy as np\r\n",
    "exam_data  = {'name': ['Anastasia', 'Dima', 'Katherine', 'James', 'Emily', 'Michael', 'Matthew', 'Laura', 'Kevin', 'Jonas'],\r\n",
    "        'score': [12.5, 9, 16.5, np.nan, 9, 20, 14.5, np.nan, 8, 19],\r\n",
    "        'attempts': [1, 3, 2, 3, 2, 3, 1, 1, 2, 1],\r\n",
    "        'qualify': ['yes', 'no', 'yes', 'no', 'no', 'yes', 'yes', 'no', 'no', 'yes']}\r\n",
    "labels = ['a', 'b', 'c', 'd', 'e', 'f', 'g', 'h', 'i', 'j']\r\n",
    "\r\n",
    "df = pd.DataFrame(exam_data,labels)\r\n",
    "print(\"Orginal rows:\")\r\n",
    "print(df)\r\n",
    "df['year'] = (2001,2002,2003,2004,2005,2006,2007,2008,2009,2010)\r\n",
    "print(\"adding new column year into dataframe\\n\",df)"
   ],
   "outputs": [
    {
     "output_type": "stream",
     "name": "stdout",
     "text": [
      "Orginal rows:\n",
      "        name  score  attempts qualify\n",
      "a  Anastasia   12.5         1     yes\n",
      "b       Dima    9.0         3      no\n",
      "c  Katherine   16.5         2     yes\n",
      "d      James    NaN         3      no\n",
      "e      Emily    9.0         2      no\n",
      "f    Michael   20.0         3     yes\n",
      "g    Matthew   14.5         1     yes\n",
      "h      Laura    NaN         1      no\n",
      "i      Kevin    8.0         2      no\n",
      "j      Jonas   19.0         1     yes\n",
      "adding new column year into dataframe\n",
      "         name  score  attempts qualify  year\n",
      "a  Anastasia   12.5         1     yes  2001\n",
      "b       Dima    9.0         3      no  2002\n",
      "c  Katherine   16.5         2     yes  2003\n",
      "d      James    NaN         3      no  2004\n",
      "e      Emily    9.0         2      no  2005\n",
      "f    Michael   20.0         3     yes  2006\n",
      "g    Matthew   14.5         1     yes  2007\n",
      "h      Laura    NaN         1      no  2008\n",
      "i      Kevin    8.0         2      no  2009\n",
      "j      Jonas   19.0         1     yes  2010\n"
     ]
    }
   ],
   "metadata": {}
  }
 ],
 "metadata": {
  "orig_nbformat": 4,
  "language_info": {
   "name": "python",
   "version": "3.9.7",
   "mimetype": "text/x-python",
   "codemirror_mode": {
    "name": "ipython",
    "version": 3
   },
   "pygments_lexer": "ipython3",
   "nbconvert_exporter": "python",
   "file_extension": ".py"
  },
  "kernelspec": {
   "name": "python3",
   "display_name": "Python 3.9.7 64-bit"
  },
  "interpreter": {
   "hash": "90148bcc259da1fcc80af659945835b57510245ee027d8a59f91081c3f6618bd"
  }
 },
 "nbformat": 4,
 "nbformat_minor": 2
}