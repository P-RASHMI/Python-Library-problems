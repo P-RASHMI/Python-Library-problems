{
 "cells": [
  {
   "cell_type": "code",
   "execution_count": 1,
   "source": [
    "'''\r\n",
    "@Author: Rashmi\r\n",
    "@Date: 2021-10-5 18:35\r\n",
    "@Last Modified by: Rashmi\r\n",
    "@Last Modified time: 2021-10-5 18:38\r\n",
    "@Title :Write a Python program to add, subtract, multiple and divide two Pandas Series.\r\n",
    "Sample Series: [2, 4, 6, 8, 10], [1, 3, 5, 7, 9]\r\n",
    "''' \r\n",
    "import pandas as pd\r\n",
    "ser1 = pd.Series([2, 4, 6, 8, 10])\r\n",
    "ser2 = pd.Series([1, 3, 5, 7, 9])\r\n",
    "ds = ser1 + ser2\r\n",
    "print(\"Add two Series:\")\r\n",
    "print(ds)\r\n",
    "print(\"Subtract two Series:\")\r\n",
    "ds =  ser1 - ser2\r\n",
    "print(ds)\r\n",
    "print(\"Multiply two Series:\")\r\n",
    "ds =  ser1 * ser2\r\n",
    "print(ds)\r\n",
    "print(\"Divide Series1 by Series2:\")\r\n",
    "ds =  ser1 / ser2\r\n",
    "print(ds)"
   ],
   "outputs": [
    {
     "output_type": "stream",
     "name": "stdout",
     "text": [
      "Add two Series:\n",
      "0     3\n",
      "1     7\n",
      "2    11\n",
      "3    15\n",
      "4    19\n",
      "dtype: int64\n",
      "Subtract two Series:\n",
      "0    1\n",
      "1    1\n",
      "2    1\n",
      "3    1\n",
      "4    1\n",
      "dtype: int64\n",
      "Multiply two Series:\n",
      "0     2\n",
      "1    12\n",
      "2    30\n",
      "3    56\n",
      "4    90\n",
      "dtype: int64\n",
      "Divide Series1 by Series2:\n",
      "0    2.000000\n",
      "1    1.333333\n",
      "2    1.200000\n",
      "3    1.142857\n",
      "4    1.111111\n",
      "dtype: float64\n"
     ]
    }
   ],
   "metadata": {}
  }
 ],
 "metadata": {
  "orig_nbformat": 4,
  "language_info": {
   "name": "python",
   "version": "3.9.7",
   "mimetype": "text/x-python",
   "codemirror_mode": {
    "name": "ipython",
    "version": 3
   },
   "pygments_lexer": "ipython3",
   "nbconvert_exporter": "python",
   "file_extension": ".py"
  },
  "kernelspec": {
   "name": "python3",
   "display_name": "Python 3.9.7 64-bit"
  },
  "interpreter": {
   "hash": "90148bcc259da1fcc80af659945835b57510245ee027d8a59f91081c3f6618bd"
  }
 },
 "nbformat": 4,
 "nbformat_minor": 2
}