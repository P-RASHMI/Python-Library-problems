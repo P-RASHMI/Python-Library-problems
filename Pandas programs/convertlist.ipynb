{
 "cells": [
  {
   "cell_type": "code",
   "execution_count": 2,
   "source": [
    "'''\r\n",
    "@Author: Rashmi\r\n",
    "@Date: 2021-10-5 18:16\r\n",
    "@Last Modified by: Rashmi\r\n",
    "@Last Modified time: 2021-10-5 18:27\r\n",
    "@Title : Write a Python program to convert a Panda module Series to Python list \r\n",
    "and it's type.\r\n",
    "''' \r\n",
    "import pandas as pd\r\n",
    "ser = pd.Series([9,11,25,16,20])\r\n",
    "print(ser)\r\n",
    "print(type(ser))\r\n",
    "print(\"Convert Pandas Series to Python list\")\r\n",
    "print(ser.tolist())\r\n",
    "print(type(ser.tolist()))"
   ],
   "outputs": [
    {
     "output_type": "stream",
     "name": "stdout",
     "text": [
      "0     9\n",
      "1    11\n",
      "2    25\n",
      "3    16\n",
      "4    20\n",
      "dtype: int64\n",
      "<class 'pandas.core.series.Series'>\n",
      "Convert Pandas Series to Python list\n",
      "[9, 11, 25, 16, 20]\n",
      "<class 'list'>\n"
     ]
    }
   ],
   "metadata": {}
  }
 ],
 "metadata": {
  "orig_nbformat": 4,
  "language_info": {
   "name": "python",
   "version": "3.9.7",
   "mimetype": "text/x-python",
   "codemirror_mode": {
    "name": "ipython",
    "version": 3
   },
   "pygments_lexer": "ipython3",
   "nbconvert_exporter": "python",
   "file_extension": ".py"
  },
  "kernelspec": {
   "name": "python3",
   "display_name": "Python 3.9.7 64-bit"
  },
  "interpreter": {
   "hash": "90148bcc259da1fcc80af659945835b57510245ee027d8a59f91081c3f6618bd"
  }
 },
 "nbformat": 4,
 "nbformat_minor": 2
}