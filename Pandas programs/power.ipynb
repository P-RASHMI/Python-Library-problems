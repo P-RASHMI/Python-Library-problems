{
 "cells": [
  {
   "cell_type": "code",
   "execution_count": 3,
   "source": [
    "'''\r\n",
    "@Author: Rashmi\r\n",
    "@Date: 2021-10-5 18:40\r\n",
    "@Last Modified by: Rashmi\r\n",
    "@Last Modified time: 2021-10-5 19:09\r\n",
    "@Title :Write a Python program to get the powers of an array values element-wise.\r\n",
    "Note: First array elements raised to powers from second array\r\n",
    "Expected Output:\r\n",
    "Original array\r\n",
    "[0 1 2 3 4 5 6]\r\n",
    "First array elements raised to powers from second array, element-wise:\r\n",
    "[ 0 1 8 27 64 125 216]\r\n",
    "''' \r\n",
    "import numpy as np\r\n",
    "import pandas as pd\r\n",
    "array1 = np.arange(7)\r\n",
    "print(\"Original array\")\r\n",
    "print(array1)\r\n",
    "print(\"First array elements raised to powers from second array, element-wise:\")\r\n",
    "second_array = np.power(array1, 3)\r\n",
    "print(second_array)\r\n",
    "print(\"array in terms of series\")\r\n",
    "ser = pd.Series(second_array) \r\n",
    "print(ser)"
   ],
   "outputs": [
    {
     "output_type": "stream",
     "name": "stdout",
     "text": [
      "Original array\n",
      "[0 1 2 3 4 5 6]\n",
      "First array elements raised to powers from second array, element-wise:\n",
      "[  0   1   8  27  64 125 216]\n",
      "array in terms of series\n",
      "0      0\n",
      "1      1\n",
      "2      8\n",
      "3     27\n",
      "4     64\n",
      "5    125\n",
      "6    216\n",
      "dtype: int32\n"
     ]
    }
   ],
   "metadata": {}
  }
 ],
 "metadata": {
  "orig_nbformat": 4,
  "language_info": {
   "name": "python",
   "version": "3.9.7",
   "mimetype": "text/x-python",
   "codemirror_mode": {
    "name": "ipython",
    "version": 3
   },
   "pygments_lexer": "ipython3",
   "nbconvert_exporter": "python",
   "file_extension": ".py"
  },
  "kernelspec": {
   "name": "python3",
   "display_name": "Python 3.9.7 64-bit"
  },
  "interpreter": {
   "hash": "90148bcc259da1fcc80af659945835b57510245ee027d8a59f91081c3f6618bd"
  }
 },
 "nbformat": 4,
 "nbformat_minor": 2
}